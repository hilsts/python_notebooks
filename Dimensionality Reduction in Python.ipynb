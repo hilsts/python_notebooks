{
 "cells": [
  {
   "cell_type": "markdown",
   "metadata": {},
   "source": [
    "## Imports"
   ]
  },
  {
   "cell_type": "code",
   "execution_count": 37,
   "metadata": {},
   "outputs": [],
   "source": [
    "import os\n",
    "import pandas as pd\n",
    "import seaborn as sns\n",
    "from matplotlib import pyplot as plt"
   ]
  },
  {
   "cell_type": "markdown",
   "metadata": {},
   "source": [
    "## Functions"
   ]
  },
  {
   "cell_type": "code",
   "execution_count": null,
   "metadata": {},
   "outputs": [],
   "source": []
  },
  {
   "cell_type": "markdown",
   "metadata": {},
   "source": [
    "## Data"
   ]
  },
  {
   "cell_type": "code",
   "execution_count": 2,
   "metadata": {},
   "outputs": [
    {
     "data": {
      "text/plain": [
       "['Public_Schools2.csv',\n",
       " 'pokemon.csv',\n",
       " 'grocery_sales.csv',\n",
       " 'ANSUR_II_MALE.csv',\n",
       " 'PimaIndians.csv',\n",
       " 'ANSUR_II_FEMALE.csv']"
      ]
     },
     "execution_count": 2,
     "metadata": {},
     "output_type": "execute_result"
    }
   ],
   "source": [
    "project_name = \"Dimensionality Reduction in Python\"\n",
    "\n",
    "data_files = os.listdir(f'data/{project_name}')\n",
    "data_files"
   ]
  },
  {
   "cell_type": "code",
   "execution_count": 35,
   "metadata": {
    "scrolled": true
   },
   "outputs": [
    {
     "name": "stdout",
     "output_type": "stream",
     "text": [
      "Public_Schools2.csv\n",
      "(131, 21)\n",
      "\n",
      "\n",
      "pokemon.csv\n",
      "(800, 13)\n",
      "\n",
      "\n",
      "grocery_sales.csv\n",
      "(78, 4)\n",
      "\n",
      "\n",
      "ANSUR_II_MALE.csv\n",
      "(4082, 99)\n",
      "\n",
      "\n",
      "PimaIndians.csv\n",
      "(392, 9)\n",
      "\n",
      "\n",
      "ANSUR_II_FEMALE.csv\n",
      "(1986, 99)\n",
      "\n",
      "\n"
     ]
    }
   ],
   "source": [
    "df_list = []\n",
    "for file in data_files:\n",
    "    df = pd.read_csv(f'data/{project_name}/{file}')\n",
    "    df_list.append(df)\n",
    "    print(file)\n",
    "    print(df.shape)\n",
    "    print('\\n')"
   ]
  },
  {
   "cell_type": "markdown",
   "metadata": {},
   "source": [
    "## Pokemon basic example"
   ]
  },
  {
   "cell_type": "code",
   "execution_count": 18,
   "metadata": {},
   "outputs": [
    {
     "name": "stdout",
     "output_type": "stream",
     "text": [
      "Columns before dimensionality reduction\n",
      "Index(['#', 'Name', 'Type 1', 'Type 2', 'Total', 'HP', 'Attack', 'Defense',\n",
      "       'Sp. Atk', 'Sp. Def', 'Speed', 'Generation', 'Legendary'],\n",
      "      dtype='object')\n",
      "Columns after first clean\n",
      "Index(['HP', 'Attack', 'Defense', 'Generation', 'Name', 'Type', 'Legendary'], dtype='object')\n"
     ]
    }
   ],
   "source": [
    "pokemon_df = df_list[1]\n",
    "\n",
    "print(\"Columns before dimensionality reduction\")\n",
    "print(pokemon_df.columns)\n",
    "# Simulate exercise df\n",
    "pokemon_df = pokemon_df[['HP', 'Attack', 'Defense', 'Generation', 'Name', 'Type 1', 'Legendary']]\n",
    "pokemon_df.rename(columns={'Type 1' : 'Type'}, inplace=True)\n",
    "print(\"Columns after first clean\")\n",
    "print(pokemon_df.columns)\n",
    "print('\\n')\n",
    "print()"
   ]
  },
  {
   "cell_type": "code",
   "execution_count": 19,
   "metadata": {},
   "outputs": [
    {
     "name": "stdout",
     "output_type": "stream",
     "text": [
      "   HP  Attack  Defense                   Name   Type\n",
      "0  45      49       49              Bulbasaur  Grass\n",
      "1  60      62       63                Ivysaur  Grass\n",
      "2  80      82       83               Venusaur  Grass\n",
      "3  80     100      123  VenusaurMega Venusaur  Grass\n",
      "4  39      52       43             Charmander   Fire\n"
     ]
    }
   ],
   "source": [
    "#Some basic dimensinality reduction\n",
    "\n",
    "# Leave this list as is\n",
    "number_cols = ['HP', 'Attack', 'Defense']\n",
    "\n",
    "# Remove the feature without variance from this list\n",
    "non_number_cols = ['Name', 'Type']\n",
    "\n",
    "# Create a new dataframe by subselecting the chosen features\n",
    "df_selected = pokemon_df[number_cols + non_number_cols]\n",
    "\n",
    "# Prints the first 5 lines of the new dataframe\n",
    "print(df_selected.head())"
   ]
  },
  {
   "cell_type": "markdown",
   "metadata": {},
   "source": [
    "## Ansur data"
   ]
  },
  {
   "cell_type": "code",
   "execution_count": 41,
   "metadata": {},
   "outputs": [],
   "source": [
    "asur_male = df_list[3]\n",
    "asur_female = df_list[5]\n",
    "\n",
    "height_cols = [col for col in asur_male.columns.tolist() if 'height' in col]\n",
    "\n",
    "# print(asur_male[height_cols].head())\n",
    "\n",
    "asur_male['body_height'] = asur_male.loc[:, height_cols].sum(axis=1)\n",
    "asur_female['body_height'] = asur_female.loc[:, height_cols].sum(axis=1)\n",
    "\n",
    "# simulate exercise dfs\n",
    "\n",
    "exercise_columns = [\n",
    "    'Gender','headlength','stature_m','weight_kg','footlength', 'wristheight', 'body_height'\n",
    "]\n",
    "\n",
    "exercise_asur_male = asur_male[exercise_columns].head(100)\n",
    "exercise_asur_female = asur_female[exercise_columns].head(100)\n",
    "exercise_asur_male['n_legs'] = 2\n",
    "exercise_asur_female['n_legs'] = 2\n",
    "\n",
    "\n",
    "ansur_df_1 = pd.concat([exercise_asur_male, exercise_asur_female])[\n",
    "    ['Gender', 'weight_kg', 'stature_m', 'body_height']\n",
    "]\n",
    "\n",
    "ansur_df_2 = pd.concat([exercise_asur_male, exercise_asur_female])[\n",
    "    ['Gender', 'footlength', 'headlength', 'n_legs']\n",
    "]\n"
   ]
  },
  {
   "cell_type": "code",
   "execution_count": null,
   "metadata": {},
   "outputs": [],
   "source": [
    "# Create a pairplot and color the points using the 'Gender' feature\n",
    "sns.pairplot(ansur_df_1, hue='Gender', diag_kind='hist')\n",
    "\n",
    "# Show the plot\n",
    "plt.show("
   ]
  }
 ],
 "metadata": {
  "kernelspec": {
   "display_name": "Python 3",
   "language": "python",
   "name": "python3"
  },
  "language_info": {
   "codemirror_mode": {
    "name": "ipython",
    "version": 3
   },
   "file_extension": ".py",
   "mimetype": "text/x-python",
   "name": "python",
   "nbconvert_exporter": "python",
   "pygments_lexer": "ipython3",
   "version": "3.8.5"
  }
 },
 "nbformat": 4,
 "nbformat_minor": 4
}
